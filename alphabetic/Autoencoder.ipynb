{
  "cells": [
    {
      "cell_type": "code",
      "execution_count": 1,
      "id": "2927d501",
      "metadata": {
        "colab": {
          "base_uri": "https://localhost:8080/",
          "height": 339
        },
        "id": "2927d501",
        "outputId": "26936472-645e-4bfd-c691-237c4d79953d"
      },
      "outputs": [],
      "source": [
        "import tensorflow as tf\n",
        "from tensorflow import keras\n",
        "import matplotlib. pyplot as plt\n",
        "import random as rnd\n",
        "import numpy as np\n",
        "from keras.layers import Conv2D, Dense, MaxPooling2D, UpSampling2D, Input\n",
        "import pandas as pd\n",
        "from sewar.full_ref import uqi\n",
        "from keras.models import load_model\n",
        "from sklearn.model_selection import train_test_split"
      ]
    },
    {
      "attachments": {},
      "cell_type": "markdown",
      "id": "6e7a4eb7",
      "metadata": {},
      "source": [
        "Load and reshape datasets"
      ]
    },
    {
      "cell_type": "code",
      "execution_count": 2,
      "id": "424f7ea6",
      "metadata": {},
      "outputs": [],
      "source": [
        "alphabites=pd.read_csv(\"A_Z Handwritten Data.csv\")"
      ]
    },
    {
      "cell_type": "code",
      "execution_count": 3,
      "id": "83216992",
      "metadata": {},
      "outputs": [
        {
          "name": "stdout",
          "output_type": "stream",
          "text": [
            "data shape : (372450, 784)\n"
          ]
        }
      ],
      "source": [
        "alphabites = alphabites.drop(alphabites.columns[0],axis=1)\n",
        "print(\"data shape : \"+str(alphabites.shape))"
      ]
    },
    {
      "cell_type": "code",
      "execution_count": 4,
      "id": "6a6cf231",
      "metadata": {},
      "outputs": [
        {
          "name": "stdout",
          "output_type": "stream",
          "text": [
            "new data shape : (372450, 28, 28, 1)\n"
          ]
        }
      ],
      "source": [
        "alphabites=np.array(alphabites)\n",
        "alphabites=alphabites.reshape(len(alphabites),28,28,1)\n",
        "print(\"new data shape : \"+str(alphabites.shape))"
      ]
    },
    {
      "cell_type": "code",
      "execution_count": 5,
      "id": "f30d2cdd",
      "metadata": {},
      "outputs": [
        {
          "name": "stdout",
          "output_type": "stream",
          "text": [
            "train shape: (60000, 28, 28, 1)\n",
            "test shape: (10000, 28, 28, 1)\n"
          ]
        }
      ],
      "source": [
        "X_train=alphabites[:60000]\n",
        "X_test=alphabites[60000:70000]\n",
        "print(\"train shape: \"+str(X_train.shape))\n",
        "print(\"test shape: \"+str(X_test.shape))"
      ]
    },
    {
      "cell_type": "markdown",
      "id": "4701b668",
      "metadata": {},
      "source": [
        "Normalize Data"
      ]
    },
    {
      "cell_type": "code",
      "execution_count": 6,
      "id": "a16362cf",
      "metadata": {
        "id": "a16362cf"
      },
      "outputs": [],
      "source": [
        "X_train = X_train/255\n",
        "X_test = X_test/255"
      ]
    },
    {
      "cell_type": "code",
      "execution_count": 7,
      "id": "4d2ca91f",
      "metadata": {},
      "outputs": [],
      "source": [
        "np.random.shuffle(X_train)\n",
        "np.random.shuffle(X_test)"
      ]
    },
    {
      "attachments": {},
      "cell_type": "markdown",
      "id": "501e4e36",
      "metadata": {},
      "source": [
        "Create Model"
      ]
    },
    {
      "cell_type": "code",
      "execution_count": 8,
      "id": "dbc6d1fe",
      "metadata": {
        "id": "dbc6d1fe"
      },
      "outputs": [],
      "source": [
        "model = keras.Sequential([\n",
        "    # encoder\n",
        "    Conv2D(64, (3, 3), activation='relu',padding='same', input_shape=(28, 28, 1)),\n",
        "    MaxPooling2D((2, 2), padding='same'),\n",
        "    Conv2D(28, (3, 3), activation='relu', padding='same'),\n",
        "    MaxPooling2D((2, 2), padding='same'),\n",
        "    Conv2D(16, (3, 3), activation='relu', padding='same'),\n",
        "    MaxPooling2D((2, 2), padding='same'),\n",
        "\n",
        "    # encode output\n",
        "    Conv2D(1, (3, 3), activation='sigmoid', padding='same', name=\"CODE\"),\n",
        "\n",
        "    # decoder\n",
        "    Conv2D(16, (3, 3), activation='relu', padding='same'),\n",
        "    UpSampling2D((2, 2)),\n",
        "    Conv2D(28, (3, 3), activation='relu', padding='same'),\n",
        "    UpSampling2D((2, 2)),\n",
        "    Conv2D(64, (3, 3), activation='relu'),\n",
        "    UpSampling2D((2, 2)),\n",
        "\n",
        "    # decode output\n",
        "    Conv2D(1, (3, 3), activation='sigmoid', padding='same')\n",
        "])"
      ]
    },
    {
      "cell_type": "code",
      "execution_count": 9,
      "id": "d6c2801f",
      "metadata": {},
      "outputs": [
        {
          "name": "stdout",
          "output_type": "stream",
          "text": [
            "Model: \"sequential\"\n",
            "_________________________________________________________________\n",
            " Layer (type)                Output Shape              Param #   \n",
            "=================================================================\n",
            " conv2d (Conv2D)             (None, 28, 28, 64)        640       \n",
            "                                                                 \n",
            " max_pooling2d (MaxPooling2D  (None, 14, 14, 64)       0         \n",
            " )                                                               \n",
            "                                                                 \n",
            " conv2d_1 (Conv2D)           (None, 14, 14, 28)        16156     \n",
            "                                                                 \n",
            " max_pooling2d_1 (MaxPooling  (None, 7, 7, 28)         0         \n",
            " 2D)                                                             \n",
            "                                                                 \n",
            " conv2d_2 (Conv2D)           (None, 7, 7, 16)          4048      \n",
            "                                                                 \n",
            " max_pooling2d_2 (MaxPooling  (None, 4, 4, 16)         0         \n",
            " 2D)                                                             \n",
            "                                                                 \n",
            " CODE (Conv2D)               (None, 4, 4, 1)           145       \n",
            "                                                                 \n",
            " conv2d_3 (Conv2D)           (None, 4, 4, 16)          160       \n",
            "                                                                 \n",
            " up_sampling2d (UpSampling2D  (None, 8, 8, 16)         0         \n",
            " )                                                               \n",
            "                                                                 \n",
            " conv2d_4 (Conv2D)           (None, 8, 8, 28)          4060      \n",
            "                                                                 \n",
            " up_sampling2d_1 (UpSampling  (None, 16, 16, 28)       0         \n",
            " 2D)                                                             \n",
            "                                                                 \n",
            " conv2d_5 (Conv2D)           (None, 14, 14, 64)        16192     \n",
            "                                                                 \n",
            " up_sampling2d_2 (UpSampling  (None, 28, 28, 64)       0         \n",
            " 2D)                                                             \n",
            "                                                                 \n",
            " conv2d_6 (Conv2D)           (None, 28, 28, 1)         577       \n",
            "                                                                 \n",
            "=================================================================\n",
            "Total params: 41,978\n",
            "Trainable params: 41,978\n",
            "Non-trainable params: 0\n",
            "_________________________________________________________________\n"
          ]
        }
      ],
      "source": [
        "model.summary()"
      ]
    },
    {
      "cell_type": "code",
      "execution_count": 10,
      "id": "a6a6f499",
      "metadata": {
        "id": "a6a6f499"
      },
      "outputs": [],
      "source": [
        "model.compile(optimizer='adam', loss='binary_crossentropy',metrics=[\"accuracy\"])"
      ]
    },
    {
      "attachments": {},
      "cell_type": "markdown",
      "id": "d5e5d3d9",
      "metadata": {},
      "source": [
        "Fit the model and save it"
      ]
    },
    {
      "cell_type": "code",
      "execution_count": 11,
      "id": "d75d1380",
      "metadata": {
        "colab": {
          "base_uri": "https://localhost:8080/"
        },
        "id": "d75d1380",
        "outputId": "92b34edf-4194-4c9f-fb45-a450cb5c2395"
      },
      "outputs": [
        {
          "name": "stdout",
          "output_type": "stream",
          "text": [
            "Epoch 1/20\n",
            "1875/1875 [==============================] - 200s 106ms/step - loss: 0.1754 - accuracy: 0.8127 - val_loss: 0.1764 - val_accuracy: 0.8026\n",
            "Epoch 2/20\n",
            "1875/1875 [==============================] - 201s 107ms/step - loss: 0.1411 - accuracy: 0.8234 - val_loss: 0.1660 - val_accuracy: 0.8061\n",
            "Epoch 3/20\n",
            "1875/1875 [==============================] - 199s 106ms/step - loss: 0.1339 - accuracy: 0.8253 - val_loss: 0.1635 - val_accuracy: 0.8080\n",
            "Epoch 4/20\n",
            "1875/1875 [==============================] - 200s 107ms/step - loss: 0.1299 - accuracy: 0.8262 - val_loss: 0.1580 - val_accuracy: 0.8091\n",
            "Epoch 5/20\n",
            "1875/1875 [==============================] - 202s 108ms/step - loss: 0.1273 - accuracy: 0.8268 - val_loss: 0.1547 - val_accuracy: 0.8100\n",
            "Epoch 6/20\n",
            "1875/1875 [==============================] - 205s 109ms/step - loss: 0.1252 - accuracy: 0.8272 - val_loss: 0.1540 - val_accuracy: 0.8102\n",
            "Epoch 7/20\n",
            "1875/1875 [==============================] - 204s 109ms/step - loss: 0.1237 - accuracy: 0.8275 - val_loss: 0.1546 - val_accuracy: 0.8091\n",
            "Epoch 8/20\n",
            "1875/1875 [==============================] - 203s 108ms/step - loss: 0.1224 - accuracy: 0.8278 - val_loss: 0.1497 - val_accuracy: 0.8114\n",
            "Epoch 9/20\n",
            "1875/1875 [==============================] - 201s 107ms/step - loss: 0.1213 - accuracy: 0.8281 - val_loss: 0.1479 - val_accuracy: 0.8120\n",
            "Epoch 10/20\n",
            "1875/1875 [==============================] - 202s 108ms/step - loss: 0.1203 - accuracy: 0.8282 - val_loss: 0.1461 - val_accuracy: 0.8119\n",
            "Epoch 11/20\n",
            "1875/1875 [==============================] - 207s 110ms/step - loss: 0.1194 - accuracy: 0.8284 - val_loss: 0.1454 - val_accuracy: 0.8120\n",
            "Epoch 12/20\n",
            "1875/1875 [==============================] - 206s 110ms/step - loss: 0.1188 - accuracy: 0.8285 - val_loss: 0.1443 - val_accuracy: 0.8124\n",
            "Epoch 13/20\n",
            "1875/1875 [==============================] - 204s 109ms/step - loss: 0.1181 - accuracy: 0.8287 - val_loss: 0.1452 - val_accuracy: 0.8123\n",
            "Epoch 14/20\n",
            "1875/1875 [==============================] - 204s 109ms/step - loss: 0.1176 - accuracy: 0.8288 - val_loss: 0.1433 - val_accuracy: 0.8127\n",
            "Epoch 15/20\n",
            "1875/1875 [==============================] - 203s 108ms/step - loss: 0.1171 - accuracy: 0.8289 - val_loss: 0.1428 - val_accuracy: 0.8126\n",
            "Epoch 16/20\n",
            "1875/1875 [==============================] - 203s 108ms/step - loss: 0.1167 - accuracy: 0.8289 - val_loss: 0.1426 - val_accuracy: 0.8127\n",
            "Epoch 17/20\n",
            "1875/1875 [==============================] - 205s 110ms/step - loss: 0.1163 - accuracy: 0.8290 - val_loss: 0.1425 - val_accuracy: 0.8123\n",
            "Epoch 18/20\n",
            "1875/1875 [==============================] - 206s 110ms/step - loss: 0.1159 - accuracy: 0.8291 - val_loss: 0.1407 - val_accuracy: 0.8130\n",
            "Epoch 19/20\n",
            "1875/1875 [==============================] - 200s 107ms/step - loss: 0.1156 - accuracy: 0.8291 - val_loss: 0.1403 - val_accuracy: 0.8131\n",
            "Epoch 20/20\n",
            "1875/1875 [==============================] - 200s 107ms/step - loss: 0.1153 - accuracy: 0.8292 - val_loss: 0.1421 - val_accuracy: 0.8132\n"
          ]
        },
        {
          "data": {
            "text/plain": [
              "<keras.callbacks.History at 0x22ec0a1af10>"
            ]
          },
          "execution_count": 11,
          "metadata": {},
          "output_type": "execute_result"
        }
      ],
      "source": [
        "model.fit(X_train, X_train, epochs=20, validation_data=(X_test, X_test))"
      ]
    },
    {
      "cell_type": "code",
      "execution_count": 12,
      "id": "b7848f0f",
      "metadata": {},
      "outputs": [],
      "source": [
        "model.save('auto_encoder.h5')"
      ]
    },
    {
      "attachments": {},
      "cell_type": "markdown",
      "id": "6bb15161",
      "metadata": {},
      "source": [
        "Load model"
      ]
    },
    {
      "cell_type": "code",
      "execution_count": 13,
      "id": "74e89b42",
      "metadata": {},
      "outputs": [],
      "source": [
        "model = load_model('auto_encoder.h5')"
      ]
    },
    {
      "attachments": {},
      "cell_type": "markdown",
      "id": "e8744603",
      "metadata": {},
      "source": [
        "Prediction"
      ]
    },
    {
      "cell_type": "code",
      "execution_count": 14,
      "id": "92a2c21c",
      "metadata": {},
      "outputs": [
        {
          "name": "stdout",
          "output_type": "stream",
          "text": [
            "313/313 [==============================] - 4s 11ms/step\n"
          ]
        }
      ],
      "source": [
        "encoder = keras.Model(inputs=model.input, outputs=model.get_layer(\"CODE\").output)\n",
        "encoded_test_image = encoder.predict(X_test)"
      ]
    },
    {
      "cell_type": "code",
      "execution_count": 15,
      "id": "02d85cf2",
      "metadata": {},
      "outputs": [
        {
          "name": "stdout",
          "output_type": "stream",
          "text": [
            "encoded image shape: (10000, 4, 4, 1)\n"
          ]
        }
      ],
      "source": [
        "print(\"encoded image shape: \"+str(encoded_test_image.shape))"
      ]
    },
    {
      "cell_type": "code",
      "execution_count": 16,
      "id": "53938048",
      "metadata": {
        "colab": {
          "base_uri": "https://localhost:8080/"
        },
        "id": "53938048",
        "outputId": "5c2ea9a0-94f5-4529-8ba3-f6f400084848"
      },
      "outputs": [
        {
          "name": "stdout",
          "output_type": "stream",
          "text": [
            "313/313 [==============================] - 6s 19ms/step\n"
          ]
        }
      ],
      "source": [
        "decoded_test_image = model.predict(X_test)"
      ]
    },
    {
      "cell_type": "code",
      "execution_count": 24,
      "id": "8b07da4f",
      "metadata": {
        "colab": {
          "base_uri": "https://localhost:8080/",
          "height": 310
        },
        "id": "8b07da4f",
        "outputId": "4c690e86-dd7e-4ab8-e7be-feb168735375"
      },
      "outputs": [
        {
          "data": {
            "image/png": "[encoded data removed]",
            "text/plain": [
              "<Figure size 1000x500 with 3 Axes>"
            ]
          },
          "metadata": {},
          "output_type": "display_data"
        },
        {
          "name": "stdout",
          "output_type": "stream",
          "text": [
            "0.8398426489753141\n"
          ]
        }
      ],
      "source": [
        "index = rnd.randint(0, len(X_test))\n",
        "\n",
        "\n",
        "fig, (ax1, ax2, ax3) = plt.subplots(1, 3, figsize=(10, 5))\n",
        "\n",
        "ax1.imshow(X_test[index], cmap='gray')\n",
        "ax1.set_title('Original')\n",
        "\n",
        "ax2.imshow(encoded_test_image[index], cmap='gray')\n",
        "ax2.set_title('encoded image')\n",
        "\n",
        "ax3.imshow(decoded_test_image[index], cmap='gray')\n",
        "ax3.set_title('decoded image')\n",
        "\n",
        "plt.show()\n",
        "print(uqi(X_test[index], decoded_test_image[index]))"
      ]
    },
    {
      "attachments": {},
      "cell_type": "markdown",
      "id": "0873aafd",
      "metadata": {},
      "source": [
        "Evalute the model"
      ]
    },
    {
      "cell_type": "code",
      "execution_count": 18,
      "id": "0d011e05",
      "metadata": {},
      "outputs": [
        {
          "name": "stdout",
          "output_type": "stream",
          "text": [
            "Compression ratio: 98.0\n"
          ]
        }
      ],
      "source": [
        "print(\"Compression ratio: \"+str(X_test.nbytes/encoded_test_image.nbytes))"
      ]
    },
    {
      "cell_type": "code",
      "execution_count": 19,
      "id": "6645f758",
      "metadata": {},
      "outputs": [
        {
          "name": "stdout",
          "output_type": "stream",
          "text": [
            "UQI image quality after decompression: 80.57555744074826\n"
          ]
        }
      ],
      "source": [
        "different = 0\n",
        "for i in range(len(X_test)):\n",
        "    different = different + uqi(X_test[i], decoded_test_image[i])\n",
        "\n",
        "score = different/len(X_test)\n",
        "\n",
        "print(\"UQI image quality after decompression: \"+str(score*100))"
      ]
    }
  ],
  "metadata": {
    "colab": {
      "provenance": []
    },
    "kernelspec": {
      "display_name": "Python 3",
      "language": "python",
      "name": "python3"
    },
    "language_info": {
      "codemirror_mode": {
        "name": "ipython",
        "version": 3
      },
      "file_extension": ".py",
      "mimetype": "text/x-python",
      "name": "python",
      "nbconvert_exporter": "python",
      "pygments_lexer": "ipython3",
      "version": "3.9.0"
    },
    "vscode": {
      "interpreter": {
        "hash": "2370da8bbbee23b91c8b7a19b6d0ff6dea912d3d503c43abea3423212c6b984a"
      }
    }
  },
  "nbformat": 4,
  "nbformat_minor": 5
}
