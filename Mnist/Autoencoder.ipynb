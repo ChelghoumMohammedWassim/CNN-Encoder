{
  "cells": [
    {
      "cell_type": "code",
      "execution_count": 1,
      "id": "2927d501",
      "metadata": {
        "colab": {
          "base_uri": "https://localhost:8080/",
          "height": 339
        },
        "id": "2927d501",
        "outputId": "26936472-645e-4bfd-c691-237c4d79953d"
      },
      "outputs": [],
      "source": [
        "import tensorflow as tf\n",
        "from tensorflow import keras\n",
        "import matplotlib. pyplot as plt\n",
        "import random as rnd\n",
        "import numpy as np\n",
        "from keras.layers import Conv2D, Dense, MaxPooling2D, UpSampling2D, Input\n",
        "import pandas as pd\n",
        "from sewar.full_ref import uqi\n",
        "from keras.models import load_model"
      ]
    },
    {
      "cell_type": "code",
      "execution_count": 2,
      "id": "30281c98",
      "metadata": {
        "colab": {
          "base_uri": "https://localhost:8080/"
        },
        "id": "30281c98",
        "outputId": "9b54a917-5bab-4790-df24-4fd6a4a61043"
      },
      "outputs": [],
      "source": [
        "(X_train, _), (X_test, _) = keras.datasets.mnist.load_data()"
      ]
    },
    {
      "cell_type": "code",
      "execution_count": 3,
      "id": "a16362cf",
      "metadata": {
        "id": "a16362cf"
      },
      "outputs": [],
      "source": [
        "X_train = X_train/255\n",
        "X_test = X_test/255"
      ]
    },
    {
      "cell_type": "code",
      "execution_count": 4,
      "id": "220f3b19",
      "metadata": {
        "colab": {
          "base_uri": "https://localhost:8080/"
        },
        "id": "220f3b19",
        "outputId": "8fb55111-df9d-44c2-b8ad-f1cbaf4cafc4"
      },
      "outputs": [
        {
          "name": "stdout",
          "output_type": "stream",
          "text": [
            "train : (60000, 28, 28)\n",
            "test : (10000, 28, 28)\n"
          ]
        }
      ],
      "source": [
        "print(\"train : \"+str(X_train.shape))\n",
        "print(\"test : \"+str(X_test.shape))"
      ]
    },
    {
      "cell_type": "code",
      "execution_count": 5,
      "id": "e17324ee",
      "metadata": {
        "id": "e17324ee"
      },
      "outputs": [],
      "source": [
        "X_train = X_train.reshape(len(X_train), 28, 28, 1)\n",
        "X_test = X_test.reshape(len(X_test), 28, 28, 1)"
      ]
    },
    {
      "cell_type": "code",
      "execution_count": 6,
      "id": "d4102c57",
      "metadata": {
        "colab": {
          "base_uri": "https://localhost:8080/"
        },
        "id": "d4102c57",
        "outputId": "9c983d67-f28e-4404-e7d8-c0517e2ed177"
      },
      "outputs": [
        {
          "name": "stdout",
          "output_type": "stream",
          "text": [
            "train : (60000, 28, 28, 1)\n",
            "test : (10000, 28, 28, 1)\n"
          ]
        }
      ],
      "source": [
        "print(\"train : \"+str(X_train.shape))\n",
        "print(\"test : \"+str(X_test.shape))"
      ]
    },
    {
      "cell_type": "code",
      "execution_count": 7,
      "id": "dbc6d1fe",
      "metadata": {
        "id": "dbc6d1fe"
      },
      "outputs": [],
      "source": [
        "model = keras.Sequential([\n",
        "    # encoder\n",
        "    Conv2D(64, (3, 3), activation='relu',padding='same', input_shape=(28, 28, 1)),\n",
        "    MaxPooling2D((2, 2), padding='same'),\n",
        "    Conv2D(28, (3, 3), activation='relu', padding='same'),\n",
        "    MaxPooling2D((2, 2), padding='same'),\n",
        "    Conv2D(16, (3, 3), activation='relu', padding='same'),\n",
        "    MaxPooling2D((2, 2), padding='same'),\n",
        "\n",
        "    # encode output\n",
        "    Conv2D(1, (3, 3), activation='sigmoid', padding='same', name=\"CODE\"),\n",
        "\n",
        "    # decoder\n",
        "    Conv2D(16, (3, 3), activation='relu', padding='same'),\n",
        "    UpSampling2D((2, 2)),\n",
        "    Conv2D(28, (3, 3), activation='relu', padding='same'),\n",
        "    UpSampling2D((2, 2)),\n",
        "    Conv2D(64, (3, 3), activation='relu'),\n",
        "    UpSampling2D((2, 2)),\n",
        "\n",
        "    # decode output\n",
        "    Conv2D(1, (3, 3), activation='sigmoid', padding='same')\n",
        "])"
      ]
    },
    {
      "cell_type": "code",
      "execution_count": 8,
      "id": "d6c2801f",
      "metadata": {},
      "outputs": [
        {
          "name": "stdout",
          "output_type": "stream",
          "text": [
            "Model: \"sequential\"\n",
            "_________________________________________________________________\n",
            " Layer (type)                Output Shape              Param #   \n",
            "=================================================================\n",
            " conv2d (Conv2D)             (None, 28, 28, 64)        640       \n",
            "                                                                 \n",
            " max_pooling2d (MaxPooling2D  (None, 14, 14, 64)       0         \n",
            " )                                                               \n",
            "                                                                 \n",
            " conv2d_1 (Conv2D)           (None, 14, 14, 28)        16156     \n",
            "                                                                 \n",
            " max_pooling2d_1 (MaxPooling  (None, 7, 7, 28)         0         \n",
            " 2D)                                                             \n",
            "                                                                 \n",
            " conv2d_2 (Conv2D)           (None, 7, 7, 16)          4048      \n",
            "                                                                 \n",
            " max_pooling2d_2 (MaxPooling  (None, 4, 4, 16)         0         \n",
            " 2D)                                                             \n",
            "                                                                 \n",
            " CODE (Conv2D)               (None, 4, 4, 1)           145       \n",
            "                                                                 \n",
            " conv2d_3 (Conv2D)           (None, 4, 4, 16)          160       \n",
            "                                                                 \n",
            " up_sampling2d (UpSampling2D  (None, 8, 8, 16)         0         \n",
            " )                                                               \n",
            "                                                                 \n",
            " conv2d_4 (Conv2D)           (None, 8, 8, 28)          4060      \n",
            "                                                                 \n",
            " up_sampling2d_1 (UpSampling  (None, 16, 16, 28)       0         \n",
            " 2D)                                                             \n",
            "                                                                 \n",
            " conv2d_5 (Conv2D)           (None, 14, 14, 64)        16192     \n",
            "                                                                 \n",
            " up_sampling2d_2 (UpSampling  (None, 28, 28, 64)       0         \n",
            " 2D)                                                             \n",
            "                                                                 \n",
            " conv2d_6 (Conv2D)           (None, 28, 28, 1)         577       \n",
            "                                                                 \n",
            "=================================================================\n",
            "Total params: 41,978\n",
            "Trainable params: 41,978\n",
            "Non-trainable params: 0\n",
            "_________________________________________________________________\n"
          ]
        }
      ],
      "source": [
        "model.summary()"
      ]
    },
    {
      "cell_type": "code",
      "execution_count": 26,
      "id": "a6a6f499",
      "metadata": {
        "id": "a6a6f499"
      },
      "outputs": [],
      "source": [
        "model.compile(optimizer='adam', loss='binary_crossentropy',metrics=[\"accuracy\"])"
      ]
    },
    {
      "cell_type": "code",
      "execution_count": 10,
      "id": "d75d1380",
      "metadata": {
        "colab": {
          "base_uri": "https://localhost:8080/"
        },
        "id": "d75d1380",
        "outputId": "92b34edf-4194-4c9f-fb45-a450cb5c2395"
      },
      "outputs": [
        {
          "name": "stdout",
          "output_type": "stream",
          "text": [
            "Epoch 1/20\n",
            "1875/1875 [==============================] - 120s 63ms/step - loss: 0.1606 - val_loss: 0.1299\n",
            "Epoch 2/20\n",
            "1875/1875 [==============================] - 118s 63ms/step - loss: 0.1222 - val_loss: 0.1185\n",
            "Epoch 3/20\n",
            "1875/1875 [==============================] - 118s 63ms/step - loss: 0.1144 - val_loss: 0.1125\n",
            "Epoch 4/20\n",
            "1875/1875 [==============================] - 118s 63ms/step - loss: 0.1103 - val_loss: 0.1116\n",
            "Epoch 5/20\n",
            "1875/1875 [==============================] - 118s 63ms/step - loss: 0.1075 - val_loss: 0.1050\n",
            "Epoch 6/20\n",
            "1875/1875 [==============================] - 119s 63ms/step - loss: 0.1056 - val_loss: 0.1043\n",
            "Epoch 7/20\n",
            "1875/1875 [==============================] - 118s 63ms/step - loss: 0.1040 - val_loss: 0.1031\n",
            "Epoch 8/20\n",
            "1875/1875 [==============================] - 118s 63ms/step - loss: 0.1028 - val_loss: 0.1009\n",
            "Epoch 9/20\n",
            "1875/1875 [==============================] - 119s 64ms/step - loss: 0.1018 - val_loss: 0.0999\n",
            "Epoch 10/20\n",
            "1875/1875 [==============================] - 119s 63ms/step - loss: 0.1009 - val_loss: 0.0999\n",
            "Epoch 11/20\n",
            "1875/1875 [==============================] - 119s 64ms/step - loss: 0.1003 - val_loss: 0.0990\n",
            "Epoch 12/20\n",
            "1875/1875 [==============================] - 120s 64ms/step - loss: 0.0996 - val_loss: 0.0979\n",
            "Epoch 13/20\n",
            "1875/1875 [==============================] - 120s 64ms/step - loss: 0.0991 - val_loss: 0.0985\n",
            "Epoch 14/20\n",
            "1875/1875 [==============================] - 120s 64ms/step - loss: 0.0986 - val_loss: 0.0977\n",
            "Epoch 15/20\n",
            "1875/1875 [==============================] - 120s 64ms/step - loss: 0.0983 - val_loss: 0.0983\n",
            "Epoch 16/20\n",
            "1875/1875 [==============================] - 120s 64ms/step - loss: 0.0978 - val_loss: 0.0961\n",
            "Epoch 17/20\n",
            "1875/1875 [==============================] - 120s 64ms/step - loss: 0.0976 - val_loss: 0.0967\n",
            "Epoch 18/20\n",
            "1875/1875 [==============================] - 120s 64ms/step - loss: 0.0972 - val_loss: 0.0962\n",
            "Epoch 19/20\n",
            "1875/1875 [==============================] - 121s 65ms/step - loss: 0.0969 - val_loss: 0.0958\n",
            "Epoch 20/20\n",
            "1875/1875 [==============================] - 121s 65ms/step - loss: 0.0967 - val_loss: 0.0957\n"
          ]
        },
        {
          "data": {
            "text/plain": [
              "<keras.callbacks.History at 0x2b1eaa8c5b0>"
            ]
          },
          "execution_count": 10,
          "metadata": {},
          "output_type": "execute_result"
        }
      ],
      "source": [
        "model.fit(X_train, X_train, epochs=20, validation_data=(X_test, X_test))"
      ]
    },
    {
      "cell_type": "code",
      "execution_count": null,
      "id": "b7848f0f",
      "metadata": {},
      "outputs": [],
      "source": [
        "model.save('auto_encoder.h5')"
      ]
    },
    {
      "cell_type": "code",
      "execution_count": 7,
      "id": "74e89b42",
      "metadata": {},
      "outputs": [],
      "source": [
        "model = load_model('auto_encoder.h5')"
      ]
    },
    {
      "cell_type": "code",
      "execution_count": 8,
      "id": "92a2c21c",
      "metadata": {},
      "outputs": [
        {
          "name": "stdout",
          "output_type": "stream",
          "text": [
            "313/313 [==============================] - 5s 14ms/step\n"
          ]
        }
      ],
      "source": [
        "encodeder = keras.Model(inputs=model.input, outputs=model.get_layer(\"CODE\").output)\n",
        "encoded_test_image = encodeder.predict(X_test)"
      ]
    },
    {
      "cell_type": "code",
      "execution_count": 9,
      "id": "02d85cf2",
      "metadata": {},
      "outputs": [
        {
          "name": "stdout",
          "output_type": "stream",
          "text": [
            "encoded image shape: (10000, 4, 4, 1)\n"
          ]
        }
      ],
      "source": [
        "print(\"encoded image shape: \"+str(encoded_test_image.shape))"
      ]
    },
    {
      "cell_type": "code",
      "execution_count": 10,
      "id": "53938048",
      "metadata": {
        "colab": {
          "base_uri": "https://localhost:8080/"
        },
        "id": "53938048",
        "outputId": "5c2ea9a0-94f5-4529-8ba3-f6f400084848"
      },
      "outputs": [
        {
          "name": "stdout",
          "output_type": "stream",
          "text": [
            "313/313 [==============================] - 10s 33ms/step\n"
          ]
        }
      ],
      "source": [
        "decoded_test_image = model.predict(X_test)"
      ]
    },
    {
      "cell_type": "code",
      "execution_count": 16,
      "id": "8b07da4f",
      "metadata": {
        "colab": {
          "base_uri": "https://localhost:8080/",
          "height": 310
        },
        "id": "8b07da4f",
        "outputId": "4c690e86-dd7e-4ab8-e7be-feb168735375"
      },
      "outputs": [
        {
          "data": {
            "image/png": "[encoded data removed]",
            "text/plain": [
              "<Figure size 1000x500 with 3 Axes>"
            ]
          },
          "metadata": {},
          "output_type": "display_data"
        },
        {
          "data": {
            "text/plain": [
              "0.8783475743796497"
            ]
          },
          "execution_count": 16,
          "metadata": {},
          "output_type": "execute_result"
        }
      ],
      "source": [
        "index = rnd.randint(0, len(X_test))\n",
        "\n",
        "\n",
        "fig, (ax1, ax2, ax3) = plt.subplots(1, 3, figsize=(10, 5))\n",
        "\n",
        "ax1.imshow(X_test[index],cmap='gray')\n",
        "ax1.set_title('Original')\n",
        "\n",
        "ax2.imshow(encoded_test_image[index],cmap='gray')\n",
        "ax2.set_title('encoded image')\n",
        "\n",
        "ax3.imshow(decoded_test_image[index],cmap='gray')\n",
        "ax3.set_title('decoded image')\n",
        "\n",
        "plt.show()\n",
        "uqi(X_test[index], decoded_test_image[index])"
      ]
    },
    {
      "cell_type": "code",
      "execution_count": 13,
      "id": "0d011e05",
      "metadata": {},
      "outputs": [
        {
          "name": "stdout",
          "output_type": "stream",
          "text": [
            "Compression ratio: 98.0\n"
          ]
        }
      ],
      "source": [
        "print(\"Compression ratio: \"+str(X_test.nbytes/encoded_test_image.nbytes))"
      ]
    },
    {
      "cell_type": "code",
      "execution_count": 14,
      "id": "6645f758",
      "metadata": {},
      "outputs": [
        {
          "name": "stdout",
          "output_type": "stream",
          "text": [
            "UQI image quality after decompression: 79.27741011434688\n"
          ]
        }
      ],
      "source": [
        "different = 0\n",
        "for i in range(len(X_test)):\n",
        "    different = different + uqi(X_test[i], decoded_test_image[i])\n",
        "\n",
        "score = different/len(X_test)\n",
        "\n",
        "print(\"UQI image quality after decompression: \"+str(score*100))"
      ]
    }
  ],
  "metadata": {
    "colab": {
      "provenance": []
    },
    "kernelspec": {
      "display_name": "Python 3",
      "language": "python",
      "name": "python3"
    },
    "language_info": {
      "codemirror_mode": {
        "name": "ipython",
        "version": 3
      },
      "file_extension": ".py",
      "mimetype": "text/x-python",
      "name": "python",
      "nbconvert_exporter": "python",
      "pygments_lexer": "ipython3",
      "version": "3.9.0"
    },
    "vscode": {
      "interpreter": {
        "hash": "2370da8bbbee23b91c8b7a19b6d0ff6dea912d3d503c43abea3423212c6b984a"
      }
    }
  },
  "nbformat": 4,
  "nbformat_minor": 5
}
